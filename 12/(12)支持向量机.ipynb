{
 "cells": [
  {
   "cell_type": "code",
   "execution_count": 1,
   "metadata": {
    "scrolled": true
   },
   "outputs": [
    {
     "name": "stdout",
     "output_type": "stream",
     "text": [
      "Populating the interactive namespace from numpy and matplotlib\n"
     ]
    }
   ],
   "source": [
    "# 作者：龙心尘<johnnygong.ml@gmail.com>\n",
    "%pylab inline\n",
    "import numpy as np\n",
    "import pylab as pl"
   ]
  },
  {
   "cell_type": "markdown",
   "metadata": {},
   "source": [
    "# 支持向量机"
   ]
  },
  {
   "cell_type": "markdown",
   "metadata": {},
   "source": [
    "支持向量机有两种：SVC，支持向量分类，用于分类问题；SVR,支持向量回归，用于回归问题。"
   ]
  },
  {
   "cell_type": "code",
   "execution_count": 3,
   "metadata": {},
   "outputs": [],
   "source": [
    "from sklearn import svm"
   ]
  },
  {
   "cell_type": "markdown",
   "metadata": {},
   "source": [
    "## 线性支持向量机（Linear SVMs）:一些感性认识"
   ]
  },
  {
   "cell_type": "markdown",
   "metadata": {},
   "source": [
    "我们采用一个非常有名的用于分类问题的数据集：鸢尾花数据集。它是基于鸢尾花的花萼的长度和宽度进行分类的。我们只用其中两维特征，这能够方便可视化。"
   ]
  },
  {
   "cell_type": "code",
   "execution_count": 5,
   "metadata": {},
   "outputs": [
    {
     "data": {
      "text/plain": [
       "{'DESCR': 'Iris Plants Database\\n====================\\n\\nNotes\\n-----\\nData Set Characteristics:\\n    :Number of Instances: 150 (50 in each of three classes)\\n    :Number of Attributes: 4 numeric, predictive attributes and the class\\n    :Attribute Information:\\n        - sepal length in cm\\n        - sepal width in cm\\n        - petal length in cm\\n        - petal width in cm\\n        - class:\\n                - Iris-Setosa\\n                - Iris-Versicolour\\n                - Iris-Virginica\\n    :Summary Statistics:\\n\\n    ============== ==== ==== ======= ===== ====================\\n                    Min  Max   Mean    SD   Class Correlation\\n    ============== ==== ==== ======= ===== ====================\\n    sepal length:   4.3  7.9   5.84   0.83    0.7826\\n    sepal width:    2.0  4.4   3.05   0.43   -0.4194\\n    petal length:   1.0  6.9   3.76   1.76    0.9490  (high!)\\n    petal width:    0.1  2.5   1.20  0.76     0.9565  (high!)\\n    ============== ==== ==== ======= ===== ====================\\n\\n    :Missing Attribute Values: None\\n    :Class Distribution: 33.3% for each of 3 classes.\\n    :Creator: R.A. Fisher\\n    :Donor: Michael Marshall (MARSHALL%PLU@io.arc.nasa.gov)\\n    :Date: July, 1988\\n\\nThis is a copy of UCI ML iris datasets.\\nhttp://archive.ics.uci.edu/ml/datasets/Iris\\n\\nThe famous Iris database, first used by Sir R.A Fisher\\n\\nThis is perhaps the best known database to be found in the\\npattern recognition literature.  Fisher\\'s paper is a classic in the field and\\nis referenced frequently to this day.  (See Duda & Hart, for example.)  The\\ndata set contains 3 classes of 50 instances each, where each class refers to a\\ntype of iris plant.  One class is linearly separable from the other 2; the\\nlatter are NOT linearly separable from each other.\\n\\nReferences\\n----------\\n   - Fisher,R.A. \"The use of multiple measurements in taxonomic problems\"\\n     Annual Eugenics, 7, Part II, 179-188 (1936); also in \"Contributions to\\n     Mathematical Statistics\" (John Wiley, NY, 1950).\\n   - Duda,R.O., & Hart,P.E. (1973) Pattern Classification and Scene Analysis.\\n     (Q327.D83) John Wiley & Sons.  ISBN 0-471-22361-1.  See page 218.\\n   - Dasarathy, B.V. (1980) \"Nosing Around the Neighborhood: A New System\\n     Structure and Classification Rule for Recognition in Partially Exposed\\n     Environments\".  IEEE Transactions on Pattern Analysis and Machine\\n     Intelligence, Vol. PAMI-2, No. 1, 67-71.\\n   - Gates, G.W. (1972) \"The Reduced Nearest Neighbor Rule\".  IEEE Transactions\\n     on Information Theory, May 1972, 431-433.\\n   - See also: 1988 MLC Proceedings, 54-64.  Cheeseman et al\"s AUTOCLASS II\\n     conceptual clustering system finds 3 classes in the data.\\n   - Many, many more ...\\n',\n",
       " 'data': array([[ 5.1,  3.5,  1.4,  0.2],\n",
       "        [ 4.9,  3. ,  1.4,  0.2],\n",
       "        [ 4.7,  3.2,  1.3,  0.2],\n",
       "        [ 4.6,  3.1,  1.5,  0.2],\n",
       "        [ 5. ,  3.6,  1.4,  0.2],\n",
       "        [ 5.4,  3.9,  1.7,  0.4],\n",
       "        [ 4.6,  3.4,  1.4,  0.3],\n",
       "        [ 5. ,  3.4,  1.5,  0.2],\n",
       "        [ 4.4,  2.9,  1.4,  0.2],\n",
       "        [ 4.9,  3.1,  1.5,  0.1],\n",
       "        [ 5.4,  3.7,  1.5,  0.2],\n",
       "        [ 4.8,  3.4,  1.6,  0.2],\n",
       "        [ 4.8,  3. ,  1.4,  0.1],\n",
       "        [ 4.3,  3. ,  1.1,  0.1],\n",
       "        [ 5.8,  4. ,  1.2,  0.2],\n",
       "        [ 5.7,  4.4,  1.5,  0.4],\n",
       "        [ 5.4,  3.9,  1.3,  0.4],\n",
       "        [ 5.1,  3.5,  1.4,  0.3],\n",
       "        [ 5.7,  3.8,  1.7,  0.3],\n",
       "        [ 5.1,  3.8,  1.5,  0.3],\n",
       "        [ 5.4,  3.4,  1.7,  0.2],\n",
       "        [ 5.1,  3.7,  1.5,  0.4],\n",
       "        [ 4.6,  3.6,  1. ,  0.2],\n",
       "        [ 5.1,  3.3,  1.7,  0.5],\n",
       "        [ 4.8,  3.4,  1.9,  0.2],\n",
       "        [ 5. ,  3. ,  1.6,  0.2],\n",
       "        [ 5. ,  3.4,  1.6,  0.4],\n",
       "        [ 5.2,  3.5,  1.5,  0.2],\n",
       "        [ 5.2,  3.4,  1.4,  0.2],\n",
       "        [ 4.7,  3.2,  1.6,  0.2],\n",
       "        [ 4.8,  3.1,  1.6,  0.2],\n",
       "        [ 5.4,  3.4,  1.5,  0.4],\n",
       "        [ 5.2,  4.1,  1.5,  0.1],\n",
       "        [ 5.5,  4.2,  1.4,  0.2],\n",
       "        [ 4.9,  3.1,  1.5,  0.1],\n",
       "        [ 5. ,  3.2,  1.2,  0.2],\n",
       "        [ 5.5,  3.5,  1.3,  0.2],\n",
       "        [ 4.9,  3.1,  1.5,  0.1],\n",
       "        [ 4.4,  3. ,  1.3,  0.2],\n",
       "        [ 5.1,  3.4,  1.5,  0.2],\n",
       "        [ 5. ,  3.5,  1.3,  0.3],\n",
       "        [ 4.5,  2.3,  1.3,  0.3],\n",
       "        [ 4.4,  3.2,  1.3,  0.2],\n",
       "        [ 5. ,  3.5,  1.6,  0.6],\n",
       "        [ 5.1,  3.8,  1.9,  0.4],\n",
       "        [ 4.8,  3. ,  1.4,  0.3],\n",
       "        [ 5.1,  3.8,  1.6,  0.2],\n",
       "        [ 4.6,  3.2,  1.4,  0.2],\n",
       "        [ 5.3,  3.7,  1.5,  0.2],\n",
       "        [ 5. ,  3.3,  1.4,  0.2],\n",
       "        [ 7. ,  3.2,  4.7,  1.4],\n",
       "        [ 6.4,  3.2,  4.5,  1.5],\n",
       "        [ 6.9,  3.1,  4.9,  1.5],\n",
       "        [ 5.5,  2.3,  4. ,  1.3],\n",
       "        [ 6.5,  2.8,  4.6,  1.5],\n",
       "        [ 5.7,  2.8,  4.5,  1.3],\n",
       "        [ 6.3,  3.3,  4.7,  1.6],\n",
       "        [ 4.9,  2.4,  3.3,  1. ],\n",
       "        [ 6.6,  2.9,  4.6,  1.3],\n",
       "        [ 5.2,  2.7,  3.9,  1.4],\n",
       "        [ 5. ,  2. ,  3.5,  1. ],\n",
       "        [ 5.9,  3. ,  4.2,  1.5],\n",
       "        [ 6. ,  2.2,  4. ,  1. ],\n",
       "        [ 6.1,  2.9,  4.7,  1.4],\n",
       "        [ 5.6,  2.9,  3.6,  1.3],\n",
       "        [ 6.7,  3.1,  4.4,  1.4],\n",
       "        [ 5.6,  3. ,  4.5,  1.5],\n",
       "        [ 5.8,  2.7,  4.1,  1. ],\n",
       "        [ 6.2,  2.2,  4.5,  1.5],\n",
       "        [ 5.6,  2.5,  3.9,  1.1],\n",
       "        [ 5.9,  3.2,  4.8,  1.8],\n",
       "        [ 6.1,  2.8,  4. ,  1.3],\n",
       "        [ 6.3,  2.5,  4.9,  1.5],\n",
       "        [ 6.1,  2.8,  4.7,  1.2],\n",
       "        [ 6.4,  2.9,  4.3,  1.3],\n",
       "        [ 6.6,  3. ,  4.4,  1.4],\n",
       "        [ 6.8,  2.8,  4.8,  1.4],\n",
       "        [ 6.7,  3. ,  5. ,  1.7],\n",
       "        [ 6. ,  2.9,  4.5,  1.5],\n",
       "        [ 5.7,  2.6,  3.5,  1. ],\n",
       "        [ 5.5,  2.4,  3.8,  1.1],\n",
       "        [ 5.5,  2.4,  3.7,  1. ],\n",
       "        [ 5.8,  2.7,  3.9,  1.2],\n",
       "        [ 6. ,  2.7,  5.1,  1.6],\n",
       "        [ 5.4,  3. ,  4.5,  1.5],\n",
       "        [ 6. ,  3.4,  4.5,  1.6],\n",
       "        [ 6.7,  3.1,  4.7,  1.5],\n",
       "        [ 6.3,  2.3,  4.4,  1.3],\n",
       "        [ 5.6,  3. ,  4.1,  1.3],\n",
       "        [ 5.5,  2.5,  4. ,  1.3],\n",
       "        [ 5.5,  2.6,  4.4,  1.2],\n",
       "        [ 6.1,  3. ,  4.6,  1.4],\n",
       "        [ 5.8,  2.6,  4. ,  1.2],\n",
       "        [ 5. ,  2.3,  3.3,  1. ],\n",
       "        [ 5.6,  2.7,  4.2,  1.3],\n",
       "        [ 5.7,  3. ,  4.2,  1.2],\n",
       "        [ 5.7,  2.9,  4.2,  1.3],\n",
       "        [ 6.2,  2.9,  4.3,  1.3],\n",
       "        [ 5.1,  2.5,  3. ,  1.1],\n",
       "        [ 5.7,  2.8,  4.1,  1.3],\n",
       "        [ 6.3,  3.3,  6. ,  2.5],\n",
       "        [ 5.8,  2.7,  5.1,  1.9],\n",
       "        [ 7.1,  3. ,  5.9,  2.1],\n",
       "        [ 6.3,  2.9,  5.6,  1.8],\n",
       "        [ 6.5,  3. ,  5.8,  2.2],\n",
       "        [ 7.6,  3. ,  6.6,  2.1],\n",
       "        [ 4.9,  2.5,  4.5,  1.7],\n",
       "        [ 7.3,  2.9,  6.3,  1.8],\n",
       "        [ 6.7,  2.5,  5.8,  1.8],\n",
       "        [ 7.2,  3.6,  6.1,  2.5],\n",
       "        [ 6.5,  3.2,  5.1,  2. ],\n",
       "        [ 6.4,  2.7,  5.3,  1.9],\n",
       "        [ 6.8,  3. ,  5.5,  2.1],\n",
       "        [ 5.7,  2.5,  5. ,  2. ],\n",
       "        [ 5.8,  2.8,  5.1,  2.4],\n",
       "        [ 6.4,  3.2,  5.3,  2.3],\n",
       "        [ 6.5,  3. ,  5.5,  1.8],\n",
       "        [ 7.7,  3.8,  6.7,  2.2],\n",
       "        [ 7.7,  2.6,  6.9,  2.3],\n",
       "        [ 6. ,  2.2,  5. ,  1.5],\n",
       "        [ 6.9,  3.2,  5.7,  2.3],\n",
       "        [ 5.6,  2.8,  4.9,  2. ],\n",
       "        [ 7.7,  2.8,  6.7,  2. ],\n",
       "        [ 6.3,  2.7,  4.9,  1.8],\n",
       "        [ 6.7,  3.3,  5.7,  2.1],\n",
       "        [ 7.2,  3.2,  6. ,  1.8],\n",
       "        [ 6.2,  2.8,  4.8,  1.8],\n",
       "        [ 6.1,  3. ,  4.9,  1.8],\n",
       "        [ 6.4,  2.8,  5.6,  2.1],\n",
       "        [ 7.2,  3. ,  5.8,  1.6],\n",
       "        [ 7.4,  2.8,  6.1,  1.9],\n",
       "        [ 7.9,  3.8,  6.4,  2. ],\n",
       "        [ 6.4,  2.8,  5.6,  2.2],\n",
       "        [ 6.3,  2.8,  5.1,  1.5],\n",
       "        [ 6.1,  2.6,  5.6,  1.4],\n",
       "        [ 7.7,  3. ,  6.1,  2.3],\n",
       "        [ 6.3,  3.4,  5.6,  2.4],\n",
       "        [ 6.4,  3.1,  5.5,  1.8],\n",
       "        [ 6. ,  3. ,  4.8,  1.8],\n",
       "        [ 6.9,  3.1,  5.4,  2.1],\n",
       "        [ 6.7,  3.1,  5.6,  2.4],\n",
       "        [ 6.9,  3.1,  5.1,  2.3],\n",
       "        [ 5.8,  2.7,  5.1,  1.9],\n",
       "        [ 6.8,  3.2,  5.9,  2.3],\n",
       "        [ 6.7,  3.3,  5.7,  2.5],\n",
       "        [ 6.7,  3. ,  5.2,  2.3],\n",
       "        [ 6.3,  2.5,  5. ,  1.9],\n",
       "        [ 6.5,  3. ,  5.2,  2. ],\n",
       "        [ 6.2,  3.4,  5.4,  2.3],\n",
       "        [ 5.9,  3. ,  5.1,  1.8]]),\n",
       " 'feature_names': ['sepal length (cm)',\n",
       "  'sepal width (cm)',\n",
       "  'petal length (cm)',\n",
       "  'petal width (cm)'],\n",
       " 'target': array([0, 0, 0, 0, 0, 0, 0, 0, 0, 0, 0, 0, 0, 0, 0, 0, 0, 0, 0, 0, 0, 0, 0,\n",
       "        0, 0, 0, 0, 0, 0, 0, 0, 0, 0, 0, 0, 0, 0, 0, 0, 0, 0, 0, 0, 0, 0, 0,\n",
       "        0, 0, 0, 0, 1, 1, 1, 1, 1, 1, 1, 1, 1, 1, 1, 1, 1, 1, 1, 1, 1, 1, 1,\n",
       "        1, 1, 1, 1, 1, 1, 1, 1, 1, 1, 1, 1, 1, 1, 1, 1, 1, 1, 1, 1, 1, 1, 1,\n",
       "        1, 1, 1, 1, 1, 1, 1, 1, 2, 2, 2, 2, 2, 2, 2, 2, 2, 2, 2, 2, 2, 2, 2,\n",
       "        2, 2, 2, 2, 2, 2, 2, 2, 2, 2, 2, 2, 2, 2, 2, 2, 2, 2, 2, 2, 2, 2, 2,\n",
       "        2, 2, 2, 2, 2, 2, 2, 2, 2, 2, 2, 2]),\n",
       " 'target_names': array(['setosa', 'versicolor', 'virginica'],\n",
       "       dtype='<U10')}"
      ]
     },
     "execution_count": 5,
     "metadata": {},
     "output_type": "execute_result"
    }
   ],
   "source": [
    "svc = svm.SVC(kernel='linear')\n",
    "# 鸢尾花数据集是sklearn自带的。\n",
    "from sklearn import datasets\n",
    "iris = datasets.load_iris()\n",
    "# 只提取前面两列数据作为特征\n",
    "iris"
   ]
  },
  {
   "cell_type": "code",
   "execution_count": 6,
   "metadata": {},
   "outputs": [
    {
     "data": {
      "text/plain": [
       "array([[ 5.1,  3.5],\n",
       "       [ 4.9,  3. ],\n",
       "       [ 4.7,  3.2],\n",
       "       [ 4.6,  3.1],\n",
       "       [ 5. ,  3.6],\n",
       "       [ 5.4,  3.9],\n",
       "       [ 4.6,  3.4],\n",
       "       [ 5. ,  3.4],\n",
       "       [ 4.4,  2.9],\n",
       "       [ 4.9,  3.1],\n",
       "       [ 5.4,  3.7],\n",
       "       [ 4.8,  3.4],\n",
       "       [ 4.8,  3. ],\n",
       "       [ 4.3,  3. ],\n",
       "       [ 5.8,  4. ],\n",
       "       [ 5.7,  4.4],\n",
       "       [ 5.4,  3.9],\n",
       "       [ 5.1,  3.5],\n",
       "       [ 5.7,  3.8],\n",
       "       [ 5.1,  3.8],\n",
       "       [ 5.4,  3.4],\n",
       "       [ 5.1,  3.7],\n",
       "       [ 4.6,  3.6],\n",
       "       [ 5.1,  3.3],\n",
       "       [ 4.8,  3.4],\n",
       "       [ 5. ,  3. ],\n",
       "       [ 5. ,  3.4],\n",
       "       [ 5.2,  3.5],\n",
       "       [ 5.2,  3.4],\n",
       "       [ 4.7,  3.2],\n",
       "       [ 4.8,  3.1],\n",
       "       [ 5.4,  3.4],\n",
       "       [ 5.2,  4.1],\n",
       "       [ 5.5,  4.2],\n",
       "       [ 4.9,  3.1],\n",
       "       [ 5. ,  3.2],\n",
       "       [ 5.5,  3.5],\n",
       "       [ 4.9,  3.1],\n",
       "       [ 4.4,  3. ],\n",
       "       [ 5.1,  3.4],\n",
       "       [ 5. ,  3.5],\n",
       "       [ 4.5,  2.3],\n",
       "       [ 4.4,  3.2],\n",
       "       [ 5. ,  3.5],\n",
       "       [ 5.1,  3.8],\n",
       "       [ 4.8,  3. ],\n",
       "       [ 5.1,  3.8],\n",
       "       [ 4.6,  3.2],\n",
       "       [ 5.3,  3.7],\n",
       "       [ 5. ,  3.3],\n",
       "       [ 7. ,  3.2],\n",
       "       [ 6.4,  3.2],\n",
       "       [ 6.9,  3.1],\n",
       "       [ 5.5,  2.3],\n",
       "       [ 6.5,  2.8],\n",
       "       [ 5.7,  2.8],\n",
       "       [ 6.3,  3.3],\n",
       "       [ 4.9,  2.4],\n",
       "       [ 6.6,  2.9],\n",
       "       [ 5.2,  2.7],\n",
       "       [ 5. ,  2. ],\n",
       "       [ 5.9,  3. ],\n",
       "       [ 6. ,  2.2],\n",
       "       [ 6.1,  2.9],\n",
       "       [ 5.6,  2.9],\n",
       "       [ 6.7,  3.1],\n",
       "       [ 5.6,  3. ],\n",
       "       [ 5.8,  2.7],\n",
       "       [ 6.2,  2.2],\n",
       "       [ 5.6,  2.5],\n",
       "       [ 5.9,  3.2],\n",
       "       [ 6.1,  2.8],\n",
       "       [ 6.3,  2.5],\n",
       "       [ 6.1,  2.8],\n",
       "       [ 6.4,  2.9],\n",
       "       [ 6.6,  3. ],\n",
       "       [ 6.8,  2.8],\n",
       "       [ 6.7,  3. ],\n",
       "       [ 6. ,  2.9],\n",
       "       [ 5.7,  2.6],\n",
       "       [ 5.5,  2.4],\n",
       "       [ 5.5,  2.4],\n",
       "       [ 5.8,  2.7],\n",
       "       [ 6. ,  2.7],\n",
       "       [ 5.4,  3. ],\n",
       "       [ 6. ,  3.4],\n",
       "       [ 6.7,  3.1],\n",
       "       [ 6.3,  2.3],\n",
       "       [ 5.6,  3. ],\n",
       "       [ 5.5,  2.5],\n",
       "       [ 5.5,  2.6],\n",
       "       [ 6.1,  3. ],\n",
       "       [ 5.8,  2.6],\n",
       "       [ 5. ,  2.3],\n",
       "       [ 5.6,  2.7],\n",
       "       [ 5.7,  3. ],\n",
       "       [ 5.7,  2.9],\n",
       "       [ 6.2,  2.9],\n",
       "       [ 5.1,  2.5],\n",
       "       [ 5.7,  2.8],\n",
       "       [ 6.3,  3.3],\n",
       "       [ 5.8,  2.7],\n",
       "       [ 7.1,  3. ],\n",
       "       [ 6.3,  2.9],\n",
       "       [ 6.5,  3. ],\n",
       "       [ 7.6,  3. ],\n",
       "       [ 4.9,  2.5],\n",
       "       [ 7.3,  2.9],\n",
       "       [ 6.7,  2.5],\n",
       "       [ 7.2,  3.6],\n",
       "       [ 6.5,  3.2],\n",
       "       [ 6.4,  2.7],\n",
       "       [ 6.8,  3. ],\n",
       "       [ 5.7,  2.5],\n",
       "       [ 5.8,  2.8],\n",
       "       [ 6.4,  3.2],\n",
       "       [ 6.5,  3. ],\n",
       "       [ 7.7,  3.8],\n",
       "       [ 7.7,  2.6],\n",
       "       [ 6. ,  2.2],\n",
       "       [ 6.9,  3.2],\n",
       "       [ 5.6,  2.8],\n",
       "       [ 7.7,  2.8],\n",
       "       [ 6.3,  2.7],\n",
       "       [ 6.7,  3.3],\n",
       "       [ 7.2,  3.2],\n",
       "       [ 6.2,  2.8],\n",
       "       [ 6.1,  3. ],\n",
       "       [ 6.4,  2.8],\n",
       "       [ 7.2,  3. ],\n",
       "       [ 7.4,  2.8],\n",
       "       [ 7.9,  3.8],\n",
       "       [ 6.4,  2.8],\n",
       "       [ 6.3,  2.8],\n",
       "       [ 6.1,  2.6],\n",
       "       [ 7.7,  3. ],\n",
       "       [ 6.3,  3.4],\n",
       "       [ 6.4,  3.1],\n",
       "       [ 6. ,  3. ],\n",
       "       [ 6.9,  3.1],\n",
       "       [ 6.7,  3.1],\n",
       "       [ 6.9,  3.1],\n",
       "       [ 5.8,  2.7],\n",
       "       [ 6.8,  3.2],\n",
       "       [ 6.7,  3.3],\n",
       "       [ 6.7,  3. ],\n",
       "       [ 6.3,  2.5],\n",
       "       [ 6.5,  3. ],\n",
       "       [ 6.2,  3.4],\n",
       "       [ 5.9,  3. ]])"
      ]
     },
     "execution_count": 6,
     "metadata": {},
     "output_type": "execute_result"
    }
   ],
   "source": [
    "X = iris.data[:, :2]\n",
    "X\n"
   ]
  },
  {
   "cell_type": "code",
   "execution_count": 7,
   "metadata": {},
   "outputs": [
    {
     "data": {
      "text/plain": [
       "array([0, 0, 0, 0, 0, 0, 0, 0, 0, 0, 0, 0, 0, 0, 0, 0, 0, 0, 0, 0, 0, 0, 0,\n",
       "       0, 0, 0, 0, 0, 0, 0, 0, 0, 0, 0, 0, 0, 0, 0, 0, 0, 0, 0, 0, 0, 0, 0,\n",
       "       0, 0, 0, 0, 1, 1, 1, 1, 1, 1, 1, 1, 1, 1, 1, 1, 1, 1, 1, 1, 1, 1, 1,\n",
       "       1, 1, 1, 1, 1, 1, 1, 1, 1, 1, 1, 1, 1, 1, 1, 1, 1, 1, 1, 1, 1, 1, 1,\n",
       "       1, 1, 1, 1, 1, 1, 1, 1, 2, 2, 2, 2, 2, 2, 2, 2, 2, 2, 2, 2, 2, 2, 2,\n",
       "       2, 2, 2, 2, 2, 2, 2, 2, 2, 2, 2, 2, 2, 2, 2, 2, 2, 2, 2, 2, 2, 2, 2,\n",
       "       2, 2, 2, 2, 2, 2, 2, 2, 2, 2, 2, 2])"
      ]
     },
     "execution_count": 7,
     "metadata": {},
     "output_type": "execute_result"
    }
   ],
   "source": [
    "y = iris.target\n",
    "y"
   ]
  },
  {
   "cell_type": "markdown",
   "metadata": {},
   "source": [
    "将预测结果可视化"
   ]
  },
  {
   "cell_type": "code",
   "execution_count": 35,
   "metadata": {},
   "outputs": [],
   "source": [
    "from matplotlib.colors import ListedColormap\n",
    "# 因为鸢尾花是3分类问题，我们要对样本和预测结果均用三种颜色区分开。\n",
    "cmap_light = ListedColormap(['#FFAAAA', '#AAFFAA', '#AAAAFF'])\n",
    "cmap_bold = ListedColormap(['#FF0000', '#00FF00', '#0000FF'])\n",
    "\n",
    "def plot_estimator(estimator, X, y):\n",
    "    '''\n",
    "    这个函数的作用是基于分类器，对预测结果与原始标签进行可视化。\n",
    "    '''\n",
    "    estimator.fit(X, y)\n",
    "    # 确定网格最大最小值作为边界\n",
    "    x_min, x_max = X[:, 0].min() - .1, X[:, 0].max() + .1\n",
    "    y_min, y_max = X[:, 1].min() - .1, X[:, 1].max() + .1\n",
    "    # 产生网格节点\n",
    "    xx, yy = np.meshgrid(np.linspace(x_min, x_max, 100),\n",
    "                         np.linspace(y_min, y_max, 100))\n",
    "    # 基于分离器，对网格节点做预测\n",
    "    Z = estimator.predict(np.c_[xx.ravel(), yy.ravel()])\n",
    "\n",
    "    # 对预测结果上色\n",
    "    Z = Z.reshape(xx.shape)\n",
    "   # pl.figure()\n",
    "    pcolormesh(xx, yy, Z, cmap=cmap_light)#增加颜色网格\n",
    "\n",
    "    # 同时对原始训练样本上色\n",
    "    pl.scatter(X[:, 0], X[:, 1], c=y, cmap=cmap_bold)\n",
    "    pl.axis('tight')\n",
    "    pl.axis('off')\n",
    "    pl.tight_layout()"
   ]
  },
  {
   "cell_type": "code",
   "execution_count": 36,
   "metadata": {},
   "outputs": [
    {
     "data": {
      "image/png": "[encoded data removed]",
      "text/plain": [
       "<matplotlib.figure.Figure at 0x5a102f0>"
      ]
     },
     "metadata": {},
     "output_type": "display_data"
    }
   ],
   "source": [
    "plot_estimator(svc, X, y)"
   ]
  },
  {
   "cell_type": "markdown",
   "metadata": {},
   "source": [
    "* 正如我们所见，`kernel=\"linear\"`（线性核函数）给了我们线性的决策边界：两类之间的分离边界是直线。\n",
    "* 多分类的工作方式就是\"one versus one\" ：在任意两类样本之间设计一个SVM，因此k个类别的样本就需要设计k(k-1)/2个SVM。当对一个未知样本进行分类时，最后得票最多的类别即为该未知样本的类别。\n",
    "* **线性支持向量分类器（LinearSVC）**：对于线性核函数，有一个新的对象`LinearSVC` ，它使用了不同的算法。在某些数据集上运行地更快（比如稀疏数据集，文本挖掘就是典型的例子）。它对于多分类采用的是\"one versus all\"策略。"
   ]
  },
  {
   "cell_type": "code",
   "execution_count": 37,
   "metadata": {},
   "outputs": [
    {
     "data": {
      "image/png": "[encoded data removed]",
      "text/plain": [
       "<matplotlib.figure.Figure at 0x5a94e30>"
      ]
     },
     "metadata": {},
     "output_type": "display_data"
    }
   ],
   "source": [
    "plot_estimator(svm.LinearSVC(), X, y)"
   ]
  },
  {
   "cell_type": "markdown",
   "metadata": {},
   "source": [
    "## 支持向量与正则化"
   ]
  },
  {
   "cell_type": "markdown",
   "metadata": {},
   "source": [
    "* **支持向量**：就是最靠近分离边界的样本点。支持向量机的工作方式就是找到这些支持向量，它们被认为是在二分类问题中最具代表性的样本点。\n",
    "* 为了更方便的可视化，我们选择二分类问题，也就是只考虑鸢尾花数据集中的1类和2类样本。这两类不是线性可分的，所以我们可以看到更有趣的一些东西。\n",
    "* 支持向量的坐标可以通过方法`support_vectors_`来找到。我们在图中将对它们着重标记。"
   ]
  },
  {
   "cell_type": "code",
   "execution_count": 41,
   "metadata": {},
   "outputs": [
    {
     "data": {
      "text/plain": [
       "array([1, 1, 1, 1, 1, 1, 1, 1, 1, 1, 1, 1, 1, 1, 1, 1, 1, 1, 1, 1, 1, 1, 1,\n",
       "       1, 1, 1, 1, 1, 1, 1, 1, 1, 1, 1, 1, 1, 1, 1, 1, 1, 1, 1, 1, 1, 1, 1,\n",
       "       1, 1, 1, 1, 2, 2, 2, 2, 2, 2, 2, 2, 2, 2, 2, 2, 2, 2, 2, 2, 2, 2, 2,\n",
       "       2, 2, 2, 2, 2, 2, 2, 2, 2, 2, 2, 2, 2, 2, 2, 2, 2, 2, 2, 2, 2, 2, 2,\n",
       "       2, 2, 2, 2, 2, 2, 2, 2])"
      ]
     },
     "execution_count": 41,
     "metadata": {},
     "output_type": "execute_result"
    }
   ],
   "source": [
    "y"
   ]
  },
  {
   "cell_type": "code",
   "execution_count": 42,
   "metadata": {},
   "outputs": [
    {
     "data": {
      "text/plain": [
       "array([[ 7. ,  3.2],\n",
       "       [ 6.4,  3.2],\n",
       "       [ 6.9,  3.1],\n",
       "       [ 5.5,  2.3],\n",
       "       [ 6.5,  2.8],\n",
       "       [ 5.7,  2.8],\n",
       "       [ 6.3,  3.3],\n",
       "       [ 4.9,  2.4],\n",
       "       [ 6.6,  2.9],\n",
       "       [ 5.2,  2.7],\n",
       "       [ 5. ,  2. ],\n",
       "       [ 5.9,  3. ],\n",
       "       [ 6. ,  2.2],\n",
       "       [ 6.1,  2.9],\n",
       "       [ 5.6,  2.9],\n",
       "       [ 6.7,  3.1],\n",
       "       [ 5.6,  3. ],\n",
       "       [ 5.8,  2.7],\n",
       "       [ 6.2,  2.2],\n",
       "       [ 5.6,  2.5],\n",
       "       [ 5.9,  3.2],\n",
       "       [ 6.1,  2.8],\n",
       "       [ 6.3,  2.5],\n",
       "       [ 6.1,  2.8],\n",
       "       [ 6.4,  2.9],\n",
       "       [ 6.6,  3. ],\n",
       "       [ 6.8,  2.8],\n",
       "       [ 6.7,  3. ],\n",
       "       [ 6. ,  2.9],\n",
       "       [ 5.7,  2.6],\n",
       "       [ 5.5,  2.4],\n",
       "       [ 5.5,  2.4],\n",
       "       [ 5.8,  2.7],\n",
       "       [ 6. ,  2.7],\n",
       "       [ 5.4,  3. ],\n",
       "       [ 6. ,  3.4],\n",
       "       [ 6.7,  3.1],\n",
       "       [ 6.3,  2.3],\n",
       "       [ 5.6,  3. ],\n",
       "       [ 5.5,  2.5],\n",
       "       [ 5.5,  2.6],\n",
       "       [ 6.1,  3. ],\n",
       "       [ 5.8,  2.6],\n",
       "       [ 5. ,  2.3],\n",
       "       [ 5.6,  2.7],\n",
       "       [ 5.7,  3. ],\n",
       "       [ 5.7,  2.9],\n",
       "       [ 6.2,  2.9],\n",
       "       [ 5.1,  2.5],\n",
       "       [ 5.7,  2.8],\n",
       "       [ 6.3,  3.3],\n",
       "       [ 5.8,  2.7],\n",
       "       [ 7.1,  3. ],\n",
       "       [ 6.3,  2.9],\n",
       "       [ 6.5,  3. ],\n",
       "       [ 7.6,  3. ],\n",
       "       [ 4.9,  2.5],\n",
       "       [ 7.3,  2.9],\n",
       "       [ 6.7,  2.5],\n",
       "       [ 7.2,  3.6],\n",
       "       [ 6.5,  3.2],\n",
       "       [ 6.4,  2.7],\n",
       "       [ 6.8,  3. ],\n",
       "       [ 5.7,  2.5],\n",
       "       [ 5.8,  2.8],\n",
       "       [ 6.4,  3.2],\n",
       "       [ 6.5,  3. ],\n",
       "       [ 7.7,  3.8],\n",
       "       [ 7.7,  2.6],\n",
       "       [ 6. ,  2.2],\n",
       "       [ 6.9,  3.2],\n",
       "       [ 5.6,  2.8],\n",
       "       [ 7.7,  2.8],\n",
       "       [ 6.3,  2.7],\n",
       "       [ 6.7,  3.3],\n",
       "       [ 7.2,  3.2],\n",
       "       [ 6.2,  2.8],\n",
       "       [ 6.1,  3. ],\n",
       "       [ 6.4,  2.8],\n",
       "       [ 7.2,  3. ],\n",
       "       [ 7.4,  2.8],\n",
       "       [ 7.9,  3.8],\n",
       "       [ 6.4,  2.8],\n",
       "       [ 6.3,  2.8],\n",
       "       [ 6.1,  2.6],\n",
       "       [ 7.7,  3. ],\n",
       "       [ 6.3,  3.4],\n",
       "       [ 6.4,  3.1],\n",
       "       [ 6. ,  3. ],\n",
       "       [ 6.9,  3.1],\n",
       "       [ 6.7,  3.1],\n",
       "       [ 6.9,  3.1],\n",
       "       [ 5.8,  2.7],\n",
       "       [ 6.8,  3.2],\n",
       "       [ 6.7,  3.3],\n",
       "       [ 6.7,  3. ],\n",
       "       [ 6.3,  2.5],\n",
       "       [ 6.5,  3. ],\n",
       "       [ 6.2,  3.4],\n",
       "       [ 5.9,  3. ]])"
      ]
     },
     "execution_count": 42,
     "metadata": {},
     "output_type": "execute_result"
    }
   ],
   "source": [
    "X"
   ]
  },
  {
   "cell_type": "code",
   "execution_count": 40,
   "metadata": {},
   "outputs": [
    {
     "data": {
      "text/plain": [
       "array([ True,  True,  True,  True,  True,  True,  True,  True,  True,\n",
       "        True,  True,  True,  True,  True,  True,  True,  True,  True,\n",
       "        True,  True,  True,  True,  True,  True,  True,  True,  True,\n",
       "        True,  True,  True,  True,  True,  True,  True,  True,  True,\n",
       "        True,  True,  True,  True,  True,  True,  True,  True,  True,\n",
       "        True,  True,  True,  True,  True,  True,  True,  True,  True,\n",
       "        True,  True,  True,  True,  True,  True,  True,  True,  True,\n",
       "        True,  True,  True,  True,  True,  True,  True,  True,  True,\n",
       "        True,  True,  True,  True,  True,  True,  True,  True,  True,\n",
       "        True,  True,  True,  True,  True,  True,  True,  True,  True,\n",
       "        True,  True,  True,  True,  True,  True,  True,  True,  True,  True], dtype=bool)"
      ]
     },
     "execution_count": 40,
     "metadata": {},
     "output_type": "execute_result"
    }
   ],
   "source": [
    "X, y = X[np.in1d(y, [1, 2])], y[np.in1d(y, [1, 2])]\n",
    "np.in1d(y, [1, 2])"
   ]
  },
  {
   "cell_type": "code",
   "execution_count": 43,
   "metadata": {},
   "outputs": [
    {
     "data": {
      "text/plain": [
       "array([[ 7. ,  3.2],\n",
       "       [ 6.4,  3.2],\n",
       "       [ 6.9,  3.1],\n",
       "       [ 5.5,  2.3],\n",
       "       [ 6.5,  2.8],\n",
       "       [ 5.7,  2.8],\n",
       "       [ 6.3,  3.3],\n",
       "       [ 4.9,  2.4],\n",
       "       [ 6.6,  2.9],\n",
       "       [ 5.2,  2.7],\n",
       "       [ 5. ,  2. ],\n",
       "       [ 5.9,  3. ],\n",
       "       [ 6. ,  2.2],\n",
       "       [ 6.1,  2.9],\n",
       "       [ 5.6,  2.9],\n",
       "       [ 6.7,  3.1],\n",
       "       [ 5.6,  3. ],\n",
       "       [ 5.8,  2.7],\n",
       "       [ 6.2,  2.2],\n",
       "       [ 5.6,  2.5],\n",
       "       [ 5.9,  3.2],\n",
       "       [ 6.1,  2.8],\n",
       "       [ 6.3,  2.5],\n",
       "       [ 6.1,  2.8],\n",
       "       [ 6.4,  2.9],\n",
       "       [ 6.6,  3. ],\n",
       "       [ 6.8,  2.8],\n",
       "       [ 6.7,  3. ],\n",
       "       [ 6. ,  2.9],\n",
       "       [ 5.7,  2.6],\n",
       "       [ 5.5,  2.4],\n",
       "       [ 5.5,  2.4],\n",
       "       [ 5.8,  2.7],\n",
       "       [ 6. ,  2.7],\n",
       "       [ 5.4,  3. ],\n",
       "       [ 6. ,  3.4],\n",
       "       [ 6.7,  3.1],\n",
       "       [ 6.3,  2.3],\n",
       "       [ 5.6,  3. ],\n",
       "       [ 5.5,  2.5],\n",
       "       [ 5.5,  2.6],\n",
       "       [ 6.1,  3. ],\n",
       "       [ 5.8,  2.6],\n",
       "       [ 5. ,  2.3],\n",
       "       [ 5.6,  2.7],\n",
       "       [ 5.7,  3. ],\n",
       "       [ 5.7,  2.9],\n",
       "       [ 6.2,  2.9],\n",
       "       [ 5.1,  2.5],\n",
       "       [ 5.7,  2.8],\n",
       "       [ 6.3,  3.3],\n",
       "       [ 5.8,  2.7],\n",
       "       [ 7.1,  3. ],\n",
       "       [ 6.3,  2.9],\n",
       "       [ 6.5,  3. ],\n",
       "       [ 7.6,  3. ],\n",
       "       [ 4.9,  2.5],\n",
       "       [ 7.3,  2.9],\n",
       "       [ 6.7,  2.5],\n",
       "       [ 7.2,  3.6],\n",
       "       [ 6.5,  3.2],\n",
       "       [ 6.4,  2.7],\n",
       "       [ 6.8,  3. ],\n",
       "       [ 5.7,  2.5],\n",
       "       [ 5.8,  2.8],\n",
       "       [ 6.4,  3.2],\n",
       "       [ 6.5,  3. ],\n",
       "       [ 7.7,  3.8],\n",
       "       [ 7.7,  2.6],\n",
       "       [ 6. ,  2.2],\n",
       "       [ 6.9,  3.2],\n",
       "       [ 5.6,  2.8],\n",
       "       [ 7.7,  2.8],\n",
       "       [ 6.3,  2.7],\n",
       "       [ 6.7,  3.3],\n",
       "       [ 7.2,  3.2],\n",
       "       [ 6.2,  2.8],\n",
       "       [ 6.1,  3. ],\n",
       "       [ 6.4,  2.8],\n",
       "       [ 7.2,  3. ],\n",
       "       [ 7.4,  2.8],\n",
       "       [ 7.9,  3.8],\n",
       "       [ 6.4,  2.8],\n",
       "       [ 6.3,  2.8],\n",
       "       [ 6.1,  2.6],\n",
       "       [ 7.7,  3. ],\n",
       "       [ 6.3,  3.4],\n",
       "       [ 6.4,  3.1],\n",
       "       [ 6. ,  3. ],\n",
       "       [ 6.9,  3.1],\n",
       "       [ 6.7,  3.1],\n",
       "       [ 6.9,  3.1],\n",
       "       [ 5.8,  2.7],\n",
       "       [ 6.8,  3.2],\n",
       "       [ 6.7,  3.3],\n",
       "       [ 6.7,  3. ],\n",
       "       [ 6.3,  2.5],\n",
       "       [ 6.5,  3. ],\n",
       "       [ 6.2,  3.4],\n",
       "       [ 5.9,  3. ]])"
      ]
     },
     "execution_count": 43,
     "metadata": {},
     "output_type": "execute_result"
    }
   ],
   "source": [
    "X"
   ]
  },
  {
   "cell_type": "code",
   "execution_count": 44,
   "metadata": {},
   "outputs": [
    {
     "data": {
      "text/plain": [
       "array([1, 1, 1, 1, 1, 1, 1, 1, 1, 1, 1, 1, 1, 1, 1, 1, 1, 1, 1, 1, 1, 1, 1,\n",
       "       1, 1, 1, 1, 1, 1, 1, 1, 1, 1, 1, 1, 1, 1, 1, 1, 1, 1, 1, 1, 1, 1, 1,\n",
       "       1, 1, 1, 1, 2, 2, 2, 2, 2, 2, 2, 2, 2, 2, 2, 2, 2, 2, 2, 2, 2, 2, 2,\n",
       "       2, 2, 2, 2, 2, 2, 2, 2, 2, 2, 2, 2, 2, 2, 2, 2, 2, 2, 2, 2, 2, 2, 2,\n",
       "       2, 2, 2, 2, 2, 2, 2, 2])"
      ]
     },
     "execution_count": 44,
     "metadata": {},
     "output_type": "execute_result"
    }
   ],
   "source": [
    "y"
   ]
  },
  {
   "cell_type": "code",
   "execution_count": 65,
   "metadata": {},
   "outputs": [
    {
     "data": {
      "text/plain": [
       "<matplotlib.collections.PathCollection at 0xb503bb0>"
      ]
     },
     "execution_count": 65,
     "metadata": {},
     "output_type": "execute_result"
    },
    {
     "data": {
      "image/png": "[encoded data removed]",
      "text/plain": [
       "<matplotlib.figure.Figure at 0xb5cfff0>"
      ]
     },
     "metadata": {},
     "output_type": "display_data"
    }
   ],
   "source": [
    "plot_estimator(svc, X, y)\n",
    "pl.scatter(svc.support_vectors_[:, 0], svc.support_vectors_[:, 1], s=80, facecolors='none', zorder=10)"
   ]
  },
  {
   "cell_type": "code",
   "execution_count": 53,
   "metadata": {},
   "outputs": [
    {
     "data": {
      "text/plain": [
       "<matplotlib.collections.PathCollection at 0x59b6670>"
      ]
     },
     "execution_count": 53,
     "metadata": {},
     "output_type": "execute_result"
    },
    {
     "data": {
      "image/png": "[encoded data removed]",
      "text/plain": [
       "<matplotlib.figure.Figure at 0x5a1e970>"
      ]
     },
     "metadata": {},
     "output_type": "display_data"
    }
   ],
   "source": [
    "pl.scatter(svc.support_vectors_[:, 0], svc.support_vectors_[:, 1], s=80, facecolors='none', zorder=10)"
   ]
  },
  {
   "cell_type": "markdown",
   "metadata": {},
   "source": [
    "* **正则化** ：只考虑支持向量其实就是一种正则化的形式。实际上，它强迫模型在处理样本特征的时候变得更加简单。\n",
    "This regularization can be tuned with the *C* parameter:\n",
    "* 正则项可以通过调整系数 *C* 来决定：\n",
    "  - 小的C值：将会有很多支持向量。决策边界=类别A的平均值-类别B的平均值\n",
    "  - 大的C值：将会有较少的支持向量。决策边界是被大多数支持向量所决定。"
   ]
  },
  {
   "cell_type": "code",
   "execution_count": 69,
   "metadata": {},
   "outputs": [
    {
     "data": {
      "text/plain": [
       "Text(0.5,1,'High C values: small number of support vectors')"
      ]
     },
     "execution_count": 69,
     "metadata": {},
     "output_type": "execute_result"
    },
    {
     "data": {
      "image/png": "[encoded data removed]",
      "text/plain": [
       "<matplotlib.figure.Figure at 0xc68a730>"
      ]
     },
     "metadata": {},
     "output_type": "display_data"
    }
   ],
   "source": [
    "svc = svm.SVC(kernel='linear', C=1e3)\n",
    "plot_estimator(svc, X, y)\n",
    "pl.scatter(svc.support_vectors_[:, 0], svc.support_vectors_[:, 1], s=80, facecolors='none', zorder=10)\n",
    "pl.title('High C values: small number of support vectors')\n",
    "\n"
   ]
  },
  {
   "cell_type": "code",
   "execution_count": 68,
   "metadata": {},
   "outputs": [
    {
     "data": {
      "text/plain": [
       "Text(0.5,1,'Low C values: high number of support vectors')"
      ]
     },
     "execution_count": 68,
     "metadata": {},
     "output_type": "execute_result"
    },
    {
     "data": {
      "image/png": "[encoded data removed]",
      "text/plain": [
       "<matplotlib.figure.Figure at 0xb61a790>"
      ]
     },
     "metadata": {},
     "output_type": "display_data"
    }
   ],
   "source": [
    "svc = svm.SVC(kernel='linear', C=1e-3)\n",
    "plot_estimator(svc, X, y)\n",
    "pl.scatter(svc.support_vectors_[:, 0], svc.support_vectors_[:, 1], s=80, facecolors='none', zorder=10)\n",
    "pl.title('Low C values: high number of support vectors')"
   ]
  },
  {
   "cell_type": "markdown",
   "metadata": {},
   "source": [
    "* 支持向量机的有个好处是对于许多数据集，默认参数'C=1'其实工作得很好。\n",
    "* **实践经验：对样本正则化**： 对于许多分离器，采用标准差正则方法是非常重要的提升预测效果的手段。"
   ]
  },
  {
   "cell_type": "markdown",
   "metadata": {},
   "source": [
    "## 核方法"
   ]
  },
  {
   "cell_type": "markdown",
   "metadata": {},
   "source": [
    "采用核方法，能够很方便地产生非线性分类边界。\n",
    "\n",
    "- **linear**，线性核，会产生线性分类边界。一般来说它的计算效率最高，而且需要数据最少。\n",
    "- **poly** ，多项式核，会产生多项式分类边界。\n",
    "- **rbf**，径向基函数，也就是高斯核，是根据与每一个支持向量的距离来决定分类边界的。它的映射到无线维的。它是最灵活的方法，但是也需要最多的数据。"
   ]
  },
  {
   "cell_type": "code",
   "execution_count": 70,
   "metadata": {},
   "outputs": [
    {
     "data": {
      "text/plain": [
       "Text(0.5,1,'Linear kernel')"
      ]
     },
     "execution_count": 70,
     "metadata": {},
     "output_type": "execute_result"
    },
    {
     "data": {
      "image/png": "[encoded data removed]",
      "text/plain": [
       "<matplotlib.figure.Figure at 0xc618d50>"
      ]
     },
     "metadata": {},
     "output_type": "display_data"
    }
   ],
   "source": [
    "svc = svm.SVC(kernel='linear')\n",
    "plot_estimator(svc, X, y)\n",
    "pl.scatter(svc.support_vectors_[:, 0], svc.support_vectors_[:, 1], s=80, facecolors='none', zorder=10)\n",
    "pl.title('Linear kernel')\n",
    "\n"
   ]
  },
  {
   "cell_type": "code",
   "execution_count": 71,
   "metadata": {},
   "outputs": [
    {
     "data": {
      "text/plain": [
       "Text(0.5,1,'Polynomial kernel')"
      ]
     },
     "execution_count": 71,
     "metadata": {},
     "output_type": "execute_result"
    },
    {
     "data": {
      "image/png": "[encoded data removed]",
      "text/plain": [
       "<matplotlib.figure.Figure at 0xc7aa750>"
      ]
     },
     "metadata": {},
     "output_type": "display_data"
    }
   ],
   "source": [
    "svc = svm.SVC(kernel='poly', degree=4)\n",
    "plot_estimator(svc, X, y)\n",
    "pl.scatter(svc.support_vectors_[:, 0], svc.support_vectors_[:, 1], s=80, facecolors='none', zorder=10)\n",
    "pl.title('Polynomial kernel')\n",
    "\n"
   ]
  },
  {
   "cell_type": "code",
   "execution_count": 72,
   "metadata": {},
   "outputs": [
    {
     "data": {
      "text/plain": [
       "Text(0.5,1,'RBF kernel')"
      ]
     },
     "execution_count": 72,
     "metadata": {},
     "output_type": "execute_result"
    },
    {
     "data": {
      "image/png": "[encoded data removed]",
      "text/plain": [
       "<matplotlib.figure.Figure at 0xc7e5f30>"
      ]
     },
     "metadata": {},
     "output_type": "display_data"
    }
   ],
   "source": [
    "svc = svm.SVC(kernel='rbf', gamma=1e2)\n",
    "plot_estimator(svc, X, y)\n",
    "pl.scatter(svc.support_vectors_[:, 0], svc.support_vectors_[:, 1], s=80, facecolors='none', zorder=10)\n",
    "pl.title('RBF kernel')"
   ]
  },
  {
   "cell_type": "markdown",
   "metadata": {},
   "source": [
    "我们可以看到，高斯核更灵活，而且对于训练数据效果是最好的。但是要担心过拟合。"
   ]
  }
 ],
 "metadata": {
  "kernelspec": {
   "display_name": "Python 3",
   "language": "python",
   "name": "python3"
  },
  "language_info": {
   "codemirror_mode": {
    "name": "ipython",
    "version": 3
   },
   "file_extension": ".py",
   "mimetype": "text/x-python",
   "name": "python",
   "nbconvert_exporter": "python",
   "pygments_lexer": "ipython3",
   "version": "3.6.3"
  }
 },
 "nbformat": 4,
 "nbformat_minor": 1
}
