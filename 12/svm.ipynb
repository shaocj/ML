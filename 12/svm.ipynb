{
 "cells": [
  {
   "cell_type": "code",
   "execution_count": 2,
   "metadata": {},
   "outputs": [],
   "source": [
    "import numpy as np\n",
    "import pylab as pl\n",
    "from sklearn import svm\n",
    "\n"
   ]
  },
  {
   "cell_type": "code",
   "execution_count": 7,
   "metadata": {},
   "outputs": [
    {
     "data": {
      "text/plain": [
       "array([[  1.84241264e-01,  -1.62468599e+00],\n",
       "       [ -2.46270847e+00,  -2.75372698e+00],\n",
       "       [ -1.19365391e+00,  -3.10565455e+00],\n",
       "       [ -7.83462792e-01,  -1.65927102e+00],\n",
       "       [ -3.99104836e+00,  -2.29084636e+00],\n",
       "       [ -1.83846169e+00,  -4.80853553e+00],\n",
       "       [ -1.66702250e+00,  -1.59151423e+00],\n",
       "       [ -3.36794530e+00,  -2.17755796e-03],\n",
       "       [ -2.48779953e+00,  -2.45040092e+00],\n",
       "       [ -1.27970850e+00,  -2.77049509e+00],\n",
       "       [ -2.90683340e+00,  -2.57364879e+00],\n",
       "       [ -2.44400537e+00,  -3.87106254e+00],\n",
       "       [ -3.30203409e+00,  -2.65999756e-02],\n",
       "       [ -9.13782972e-01,  -1.53553796e+00],\n",
       "       [ -1.74925421e+00,  -2.54927045e+00],\n",
       "       [ -1.30727395e+00,  -2.78266111e+00],\n",
       "       [ -3.97909773e+00,  -2.81763530e+00],\n",
       "       [ -1.43521477e+00,  -3.30826870e+00],\n",
       "       [ -2.05063052e+00,  -2.17559196e+00],\n",
       "       [ -7.19218654e-01,  -1.71645332e+00],\n",
       "       [  2.58379381e+00,   9.18352814e-01],\n",
       "       [  1.40905227e+00,   1.74898186e+00],\n",
       "       [  2.40354088e+00,   8.56454325e-01],\n",
       "       [  2.11323900e+00,   2.21364569e+00],\n",
       "       [  4.41052938e+00,   7.29160120e-01],\n",
       "       [  3.49077705e+00,   1.56811368e+00],\n",
       "       [  2.02276204e+00,   2.66006304e+00],\n",
       "       [  1.26627999e+00,   1.20281468e+00],\n",
       "       [  2.61887088e+00,   1.00639786e+00],\n",
       "       [  2.91954094e+00,   1.73375923e+00],\n",
       "       [  1.11334578e+00,   2.30145965e+00],\n",
       "       [  2.01654421e+00,   1.26396361e+00],\n",
       "       [  2.10908971e+00,   2.85687056e+00],\n",
       "       [  7.70052589e-02,   2.12398100e+00],\n",
       "       [  1.16427403e+00,   1.74995702e+00],\n",
       "       [  2.91091123e+00,   2.23486680e+00],\n",
       "       [  2.27666864e+00,   2.19075851e+00],\n",
       "       [  1.68330584e+00,   3.04056789e+00],\n",
       "       [  5.37699861e-01,   7.05914982e-01],\n",
       "       [  3.05426941e+00,   2.71358596e+00]])"
      ]
     },
     "execution_count": 7,
     "metadata": {},
     "output_type": "execute_result"
    }
   ],
   "source": [
    "# we create 40 separable points\n",
    "X = np.r_[np.random.randn(20, 2) - [2, 2], np.random.randn(20, 2) + [2, 2]]\n",
    "Y = [0]*20 +[1]*20\n",
    "X\n"
   ]
  },
  {
   "cell_type": "code",
   "execution_count": 9,
   "metadata": {},
   "outputs": [
    {
     "data": {
      "text/plain": [
       "[0,\n",
       " 0,\n",
       " 0,\n",
       " 0,\n",
       " 0,\n",
       " 0,\n",
       " 0,\n",
       " 0,\n",
       " 0,\n",
       " 0,\n",
       " 0,\n",
       " 0,\n",
       " 0,\n",
       " 0,\n",
       " 0,\n",
       " 0,\n",
       " 0,\n",
       " 0,\n",
       " 0,\n",
       " 0,\n",
       " 1,\n",
       " 1,\n",
       " 1,\n",
       " 1,\n",
       " 1,\n",
       " 1,\n",
       " 1,\n",
       " 1,\n",
       " 1,\n",
       " 1,\n",
       " 1,\n",
       " 1,\n",
       " 1,\n",
       " 1,\n",
       " 1,\n",
       " 1,\n",
       " 1,\n",
       " 1,\n",
       " 1,\n",
       " 1]"
      ]
     },
     "execution_count": 9,
     "metadata": {},
     "output_type": "execute_result"
    }
   ],
   "source": [
    "Y"
   ]
  },
  {
   "cell_type": "code",
   "execution_count": 10,
   "metadata": {},
   "outputs": [
    {
     "data": {
      "text/plain": [
       "SVC(C=1.0, cache_size=200, class_weight=None, coef0=0.0,\n",
       "  decision_function_shape='ovr', degree=3, gamma='auto', kernel='linear',\n",
       "  max_iter=-1, probability=False, random_state=None, shrinking=True,\n",
       "  tol=0.001, verbose=False)"
      ]
     },
     "execution_count": 10,
     "metadata": {},
     "output_type": "execute_result"
    }
   ],
   "source": [
    "#fit the model\n",
    "clf = svm.SVC(kernel='linear')\n",
    "clf.fit(X, Y)"
   ]
  },
  {
   "cell_type": "code",
   "execution_count": 15,
   "metadata": {},
   "outputs": [
    {
     "data": {
      "text/plain": [
       "SVC(C=1.0, cache_size=200, class_weight=None, coef0=0.0,\n",
       "  decision_function_shape='ovr', degree=3, gamma='auto', kernel='linear',\n",
       "  max_iter=-1, probability=False, random_state=None, shrinking=True,\n",
       "  tol=0.001, verbose=False)"
      ]
     },
     "execution_count": 15,
     "metadata": {},
     "output_type": "execute_result"
    }
   ],
   "source": [
    "clf"
   ]
  },
  {
   "cell_type": "code",
   "execution_count": 25,
   "metadata": {},
   "outputs": [
    {
     "name": "stdout",
     "output_type": "stream",
     "text": [
      "0.235902882389\n"
     ]
    }
   ],
   "source": [
    "# get the separating hyperplane\n",
    "w = clf.coef_[0]\n",
    "a = -w[0]/w[1]\n",
    "xx = np.linspace(-5, 5)\n",
    "yy = a*xx - (clf.intercept_[0])/w[1]\n",
    "\n",
    "# plot the parallels to the separating hyperplane that pass through the support vectors\n",
    "b = clf.support_vectors_[0]\n",
    "yy_down = a*xx + (b[1] - a*b[0])\n",
    "b = clf.support_vectors_[-1]\n",
    "yy_up = a*xx + (b[1] - a*b[0])\n",
    "\n",
    "print(clf.intercept_[0])"
   ]
  },
  {
   "cell_type": "code",
   "execution_count": 26,
   "metadata": {},
   "outputs": [
    {
     "name": "stdout",
     "output_type": "stream",
     "text": [
      "w: [ 0.36784644  0.80246869]\n",
      "a:  -0.458393505511\n",
      "xx:  [-5.         -4.79591837 -4.59183673 -4.3877551  -4.18367347 -3.97959184\n",
      " -3.7755102  -3.57142857 -3.36734694 -3.16326531 -2.95918367 -2.75510204\n",
      " -2.55102041 -2.34693878 -2.14285714 -1.93877551 -1.73469388 -1.53061224\n",
      " -1.32653061 -1.12244898 -0.91836735 -0.71428571 -0.51020408 -0.30612245\n",
      " -0.10204082  0.10204082  0.30612245  0.51020408  0.71428571  0.91836735\n",
      "  1.12244898  1.32653061  1.53061224  1.73469388  1.93877551  2.14285714\n",
      "  2.34693878  2.55102041  2.75510204  2.95918367  3.16326531  3.36734694\n",
      "  3.57142857  3.7755102   3.97959184  4.18367347  4.3877551   4.59183673\n",
      "  4.79591837  5.        ]\n",
      "yy:  [ 1.99799608  1.90444639  1.81089669  1.717347    1.6237973   1.53024761\n",
      "  1.43669791  1.34314822  1.24959852  1.15604883  1.06249913  0.96894944\n",
      "  0.87539974  0.78185005  0.68830035  0.59475066  0.50120096  0.40765127\n",
      "  0.31410157  0.22055188  0.12700218  0.03345249 -0.06009721 -0.1536469\n",
      " -0.2471966  -0.34074629 -0.43429599 -0.52784568 -0.62139538 -0.71494507\n",
      " -0.80849477 -0.90204446 -0.99559416 -1.08914385 -1.18269355 -1.27624324\n",
      " -1.36979294 -1.46334263 -1.55689233 -1.65044202 -1.74399172 -1.83754141\n",
      " -1.93109111 -2.0246408  -2.1181905  -2.21174019 -2.30528989 -2.39883958\n",
      " -2.49238928 -2.58593897]\n",
      "support_vectors_:  [[ 0.18424126 -1.62468599]\n",
      " [-3.30203409 -0.02659998]\n",
      " [ 0.53769986  0.70591498]]\n",
      "clf.coef_:  [[ 0.36784644  0.80246869]]\n"
     ]
    }
   ],
   "source": [
    "print ('w:',w)\n",
    "print (\"a: \", a)\n",
    "print (\"xx: \", xx)\n",
    "print (\"yy: \", yy)\n",
    "print (\"support_vectors_: \", clf.support_vectors_)\n",
    "print (\"clf.coef_: \", clf.coef_)\n",
    "\n"
   ]
  },
  {
   "cell_type": "code",
   "execution_count": 18,
   "metadata": {},
   "outputs": [
    {
     "data": {
      "image/png": "[encoded data removed]",
      "text/plain": [
       "<matplotlib.figure.Figure at 0x5c84870>"
      ]
     },
     "metadata": {},
     "output_type": "display_data"
    }
   ],
   "source": [
    "# switching to the generic n-dimensional parameterization of the hyperplan to the 2D-specific equation\n",
    "# of a line y=a.x +b: the generic w_0x + w_1y +w_3=0 can be rewritten y = -(w_0/w_1) x + (w_3/w_1)\n",
    "\n",
    "\n",
    "# plot the line, the points, and the nearest vectors to the plane\n",
    "pl.plot(xx, yy, 'k-')\n",
    "pl.plot(xx, yy_down, 'k--')\n",
    "pl.plot(xx, yy_up, 'k--')\n",
    "\n",
    "pl.scatter(clf.support_vectors_[:, 0], clf.support_vectors_[:, 1],\n",
    "          s=80, facecolors='none')\n",
    "pl.scatter(X[:, 0], X[:, 1], c=Y, cmap=pl.cm.Paired)\n",
    "\n",
    "pl.axis('tight')\n",
    "pl.show()"
   ]
  },
  {
   "cell_type": "code",
   "execution_count": null,
   "metadata": {
    "collapsed": true
   },
   "outputs": [],
   "source": []
  }
 ],
 "metadata": {
  "kernelspec": {
   "display_name": "Python 3",
   "language": "python",
   "name": "python3"
  }
 },
 "nbformat": 4,
 "nbformat_minor": 2
}
